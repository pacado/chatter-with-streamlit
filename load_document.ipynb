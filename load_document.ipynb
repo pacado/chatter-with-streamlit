{
 "cells": [
  {
   "cell_type": "code",
   "execution_count": null,
   "metadata": {},
   "outputs": [],
   "source": [
    "import os\n",
    "import chromadb"
   ]
  },
  {
   "cell_type": "code",
   "execution_count": null,
   "metadata": {},
   "outputs": [],
   "source": [
    "documents_directory = \"documents/SS123\"\n",
    "collection_name = \"SS123\"\n",
    "persist_directory = documents_directory"
   ]
  },
  {
   "cell_type": "code",
   "execution_count": null,
   "metadata": {},
   "outputs": [],
   "source": [
    "documents = list()\n",
    "metadatas = list()\n",
    "\n",
    "files = os.listdir(documents_directory)\n",
    "documentExtension = \"txt\"\n",
    "\n",
    "files = [ file for file in files if file.endswith(documentExtension) ]\n",
    "\n",
    "\n",
    "for filename in files:\n",
    "    with open(f\"{documents_directory}/{filename}\") as file:\n",
    "        for line_number, line in enumerate(file.readlines()):\n",
    "            line = line.strip()\n",
    "            \n",
    "            if len(line) > 0:\n",
    "                # print(line_number)\n",
    "                # print(line)\n",
    "                # print(\"\\n\")\n",
    "                documents.append(line)\n",
    "                metadatas.append({\"filename\":f\"{documents_directory}/{filename}\", \"line_number\":line_number})"
   ]
  },
  {
   "cell_type": "code",
   "execution_count": null,
   "metadata": {},
   "outputs": [],
   "source": [
    " # Load the documents in batches of 100\n",
    "for i in range(0, len(documents), 100):\n",
    "        collection.add( \n",
    "            ids=ids[i : i + 100],\n",
    "            documents=documents[i : i + 100],\n",
    "            metadatas=metadatas[i : i + 100],  \n",
    "        )"
   ]
  },
  {
   "cell_type": "code",
   "execution_count": null,
   "metadata": {},
   "outputs": [],
   "source": [
    "count = collection.count()\n",
    "print(f\"Collection already contains {count} documents\")\n"
   ]
  },
  {
   "cell_type": "code",
   "execution_count": null,
   "metadata": {},
   "outputs": [],
   "source": []
  }
 ],
 "metadata": {
  "kernelspec": {
   "display_name": "chroma",
   "language": "python",
   "name": "python3"
  },
  "language_info": {
   "codemirror_mode": {
    "name": "ipython",
    "version": 3
   },
   "file_extension": ".py",
   "mimetype": "text/x-python",
   "name": "python",
   "nbconvert_exporter": "python",
   "pygments_lexer": "ipython3",
   "version": "3.8.17"
  },
  "orig_nbformat": 4
 },
 "nbformat": 4,
 "nbformat_minor": 2
}
